{
 "cells": [
  {
   "cell_type": "markdown",
   "metadata": {},
   "source": [
    "# 线性判别分析\n",
    "- Linear Discriminant Analysis\n",
    "- 主要用于数据降维"
   ]
  },
  {
   "cell_type": "code",
   "execution_count": 169,
   "metadata": {},
   "outputs": [],
   "source": [
    "import numpy as np\n",
    "import matplotlib.pyplot as plt\n",
    "import math"
   ]
  },
  {
   "cell_type": "markdown",
   "metadata": {},
   "source": [
    "### 数据加载"
   ]
  },
  {
   "cell_type": "code",
   "execution_count": 18,
   "metadata": {},
   "outputs": [],
   "source": [
    "f = open('ex3blue.dat','r+')\n",
    "blue = f.readlines()\n",
    "blue = [b.strip('\\n').split() for b in blue]\n",
    "blue = np.array([[float(b) for b in bs] for bs in blue])\n",
    "\n",
    "f = open('ex3green.dat','r+')\n",
    "green = f.readlines()\n",
    "green = [g.strip('\\n').split() for g in green]\n",
    "green = np.array([[float(g) for g in gs] for gs in green])\n",
    "\n",
    "f = open('ex3red.dat','r+')\n",
    "red = f.readlines()\n",
    "red = [r.strip('\\n').split() for r in red]\n",
    "red = np.array([[float(r) for r in rs] for rs in red])"
   ]
  },
  {
   "cell_type": "markdown",
   "metadata": {},
   "source": [
    "### 散点图可视化原始点"
   ]
  },
  {
   "cell_type": "code",
   "execution_count": 27,
   "metadata": {},
   "outputs": [
    {
     "data": {
      "text/plain": [
       "[<matplotlib.lines.Line2D at 0x11c20470>]"
      ]
     },
     "execution_count": 27,
     "metadata": {},
     "output_type": "execute_result"
    },
    {
     "data": {
      "image/png": "[encoded data removed]",
      "text/plain": [
       "<Figure size 432x288 with 1 Axes>"
      ]
     },
     "metadata": {},
     "output_type": "display_data"
    }
   ],
   "source": [
    "plt.plot(red[:,0],red[:,1],'o',color = 'red')\n",
    "plt.plot(blue[:,0],blue[:,1],'o',color = 'blue')\n",
    "plt.plot(green[:,0],green[:,1],'o',color = 'green')"
   ]
  },
  {
   "cell_type": "markdown",
   "metadata": {},
   "source": [
    "### 线性映射\n",
    "- y = theta.T * x\n",
    "- 均值：𝝁𝑖 = 1 /𝑛 * sum(𝒙)\n",
    "- 类内散度：𝑺𝑤 = sum(𝑺𝑤𝑖), 𝑺𝑤𝑖 = sum((𝒙−𝝁𝑖)(𝒙−𝝁𝑖)𝑻)\n",
    "- 类间散度：𝑺𝑏 = sum(𝑛𝑖(𝝁𝑖 −𝝁)(𝝁𝑖 −𝝁)𝑻） "
   ]
  },
  {
   "cell_type": "code",
   "execution_count": 86,
   "metadata": {},
   "outputs": [
    {
     "data": {
      "text/plain": [
       "array([[45.14425714, 40.78665714],\n",
       "       [40.78665714, 36.84967937]])"
      ]
     },
     "execution_count": 86,
     "metadata": {},
     "output_type": "execute_result"
    }
   ],
   "source": [
    "mu_blue = np.array([np.mean(blue[:,0]),np.mean(blue[:,1])])\n",
    "mu_red = np.array([np.mean(red[:,0]),np.mean(red[:,1])])\n",
    "mu_green = np.array([np.mean(green[:,0]),np.mean(green[:,1])])\n",
    "b_len = len(blue)\n",
    "r_len = len(red)\n",
    "g_len = len(green)\n",
    "N = b_len+r_len+g_len\n",
    "\n",
    "mu = np.array((b_len*mu_blue+r_len*mu_red +g_len*mu_green)/N)\n",
    "\n",
    "Swb = np.zeros([2,2])\n",
    "Swr = np.zeros([2,2])\n",
    "Swg = np.zeros([2,2])\n",
    "##d * d 维初始化\n",
    "\n",
    "for a in blue:\n",
    "    Swb += np.array([(a - mu_blue)]).T.dot(np.array([(a - mu_blue)]))\n",
    "for r in red:\n",
    "    Swr += np.array([(r - mu_red)]).T.dot(np.array([(r - mu_red)]))\n",
    "for g in green:\n",
    "    Swg += np.array([(g - mu_green)]).T.dot(np.array([(g - mu_green)]))\n",
    "Sw = Swb + Swr + Swg\n",
    "\n",
    "\n",
    "Sb = b_len * np.array([(mu_blue - mu)]).T.dot(np.array([(mu_blue - mu)])) \n",
    "+ r_len * np.array([(mu_red - mu)]).T.dot(np.array([(mu_red - mu)]))\n",
    "+ g_len * np.array([(mu_green - mu)]).T.dot(np.array([(mu_green - mu)]))"
   ]
  },
  {
   "cell_type": "markdown",
   "metadata": {},
   "source": [
    "### 直接求解tehta\n",
    "- tehtai 是 矩阵 𝑺𝑤 <sup>-1</sup> 𝑺𝑏 的特征向量\n",
    "- thetai 尽量取对应的特征值大的特征向量"
   ]
  },
  {
   "cell_type": "code",
   "execution_count": 97,
   "metadata": {},
   "outputs": [],
   "source": [
    "A = np.mat(Sw).I * Sb ##矩阵点乘\n",
    "\n",
    "eigenvalue,featurevector=np.linalg.eig(A) ##矩阵的特征向量与特征值"
   ]
  },
  {
   "cell_type": "markdown",
   "metadata": {},
   "source": [
    "#### 可以看到 5.47609258 为较大特征值"
   ]
  },
  {
   "cell_type": "code",
   "execution_count": 99,
   "metadata": {},
   "outputs": [
    {
     "name": "stdout",
     "output_type": "stream",
     "text": [
      "[5.47609258 0.        ]\n",
      "[[ 0.90643433 -0.81405299]\n",
      " [ 0.42234679  0.5807906 ]]\n"
     ]
    }
   ],
   "source": [
    "print(eigenvalue)\n",
    "print(featurevector)"
   ]
  },
  {
   "cell_type": "code",
   "execution_count": 131,
   "metadata": {},
   "outputs": [
    {
     "data": {
      "text/plain": [
       "array([2.58, 2.16, 1.27, 1.58, 1.16, 1.24, 1.1 , 1.78, 1.9 , 1.66, 2.2 ,\n",
       "       1.89, 2.37, 2.3 ])"
      ]
     },
     "execution_count": 131,
     "metadata": {},
     "output_type": "execute_result"
    }
   ],
   "source": [
    "blue[:,0]"
   ]
  },
  {
   "cell_type": "code",
   "execution_count": 186,
   "metadata": {},
   "outputs": [
    {
     "data": {
      "text/plain": [
       "<matplotlib.legend.Legend at 0x15d2c828>"
      ]
     },
     "execution_count": 186,
     "metadata": {},
     "output_type": "execute_result"
    },
    {
     "data": {
      "image/png": "[encoded data removed]",
      "text/plain": [
       "<Figure size 432x288 with 1 Axes>"
      ]
     },
     "metadata": {},
     "output_type": "display_data"
    }
   ],
   "source": [
    "plt.plot(red[:,0],red[:,1],'o',color = 'red')\n",
    "plt.plot(blue[:,0],blue[:,1],'o',color = 'blue')\n",
    "plt.plot(green[:,0],green[:,1],'o',color = 'green')\n",
    "theta1 = np.array(featurevector[0])[0]\n",
    "x = np.arange(1,9,0.01)\n",
    "y1 = theta1[1]*x + theta1[0]*x\n",
    "theta2 = np.array(featurevector[1])[0]\n",
    "\n",
    "y2 = theta2[1]*x + theta2[0]*x\n",
    "plt.plot(x,y1,'-',color = 'brown',label = '$\\lambda$ = 0')\n",
    "plt.plot(x,y2,'-',color = 'yellow',label = '$\\lambda$ = 5.476')\n",
    "\n",
    "plt.legend()"
   ]
  },
  {
   "cell_type": "markdown",
   "metadata": {},
   "source": [
    "### 下面分别对两种theta进行对比可视化\n",
    "- 可以明显看出lambda = 5.46的效果更好"
   ]
  },
  {
   "cell_type": "code",
   "execution_count": 170,
   "metadata": {},
   "outputs": [],
   "source": [
    "def gaussian(sigma, x, u):\n",
    "    y = np.exp(-(x - u) ** 2 / (2 * sigma ** 2)) / (sigma * math.sqrt(2 * math.pi))\n",
    "    return y"
   ]
  },
  {
   "cell_type": "code",
   "execution_count": 185,
   "metadata": {},
   "outputs": [
    {
     "data": {
      "text/plain": [
       "Text(0.5,0,'$\\\\lambda$ = 0')"
      ]
     },
     "execution_count": 185,
     "metadata": {},
     "output_type": "execute_result"
    },
    {
     "data": {
      "image/png": "[encoded data removed]",
      "text/plain": [
       "<Figure size 432x288 with 1 Axes>"
      ]
     },
     "metadata": {},
     "output_type": "display_data"
    }
   ],
   "source": [
    "mu_blue_new1 = theta1.dot(mu_blue)\n",
    "mu_red_new1 = theta1.dot(mu_red)\n",
    "mu_green_new1 = theta1.dot(mu_green)\n",
    "\n",
    "blue_y1 = [theta1.dot(b) for b in blue]\n",
    "red_y1 = [theta1.dot(r) for r in red]\n",
    "green_y1 = [theta1.dot(g) for g in green]\n",
    "\n",
    "sigma_b1 = np.var(blue_y1)\n",
    "sigma_r1 = np.var(red_y1)\n",
    "sigma_g1 = np.var(green_y1)\n",
    "\n",
    "x = np.arange(-6,2,0.1)\n",
    "\n",
    "y_b1 = gaussian(sigma_b1,x,mu_blue_new1)\n",
    "plt.plot(x,y_b1,'-',color = 'blue')\n",
    "plt.plot(blue_y1,[0 for i in blue_y1],'o',color = 'blue')\n",
    "\n",
    "y_r1 = gaussian(sigma_r1,x,mu_red_new1)\n",
    "plt.plot(x,y_r1,'-',color = 'red')\n",
    "plt.plot(red_y1,[0 for i in red_y1],'o',color = 'red')\n",
    "\n",
    "y_r1 = gaussian(sigma_g1,x,mu_green_new1)\n",
    "plt.plot(x,y_r1,'-',color = 'green')\n",
    "plt.plot(green_y1,[0 for i in green_y1],'o',color = 'green')\n",
    "plt.xlabel('$\\lambda$ = 0')"
   ]
  },
  {
   "cell_type": "code",
   "execution_count": 187,
   "metadata": {},
   "outputs": [
    {
     "data": {
      "text/plain": [
       "Text(0.5,0,'$\\\\lambda$ = 5.476')"
      ]
     },
     "execution_count": 187,
     "metadata": {},
     "output_type": "execute_result"
    },
    {
     "data": {
      "image/png": "[encoded data removed]",
      "text/plain": [
       "<Figure size 432x288 with 1 Axes>"
      ]
     },
     "metadata": {},
     "output_type": "display_data"
    }
   ],
   "source": [
    "mu_blue_new2 = theta2.dot(mu_blue)\n",
    "mu_red_new2 = theta2.dot(mu_red)\n",
    "mu_green_new2 = theta2.dot(mu_green)\n",
    "\n",
    "blue_y2 = [theta2.dot(b) for b in blue]\n",
    "red_y2 = [theta2.dot(r) for r in red]\n",
    "green_y2 = [theta2.dot(g) for g in green]\n",
    "\n",
    "sigma_b2 = np.var(blue_y2)\n",
    "sigma_r2 = np.var(red_y2)\n",
    "sigma_g2 = np.var(green_y2)\n",
    "\n",
    "x = np.arange(2,8,0.1)\n",
    "\n",
    "y_b2 = gaussian(sigma_b2,x,mu_blue_new2)\n",
    "plt.plot(x,y_b2,'-',color = 'blue')\n",
    "plt.plot(blue_y2,[0 for i in blue_y2],'o',color = 'blue')\n",
    "\n",
    "y_r2 = gaussian(sigma_r2,x,mu_red_new2)\n",
    "plt.plot(x,y_r2,'-',color = 'red')\n",
    "plt.plot(red_y2,[0 for i in red_y2],'o',color = 'red')\n",
    "\n",
    "y_r2 = gaussian(sigma_g2,x,mu_green_new2)\n",
    "plt.plot(x,y_r2,'-',color = 'green')\n",
    "plt.plot(green_y2,[0 for i in green_y2],'o',color = 'green')\n",
    "plt.xlabel('$\\lambda$ = 5.476')"
   ]
  }
 ],
 "metadata": {
  "kernelspec": {
   "display_name": "Python 2",
   "language": "python",
   "name": "python2"
  },
  "language_info": {
   "codemirror_mode": {
    "name": "ipython",
    "version": 2
   },
   "file_extension": ".py",
   "mimetype": "text/x-python",
   "name": "python",
   "nbconvert_exporter": "python",
   "pygments_lexer": "ipython2",
   "version": "2.7.14"
  }
 },
 "nbformat": 4,
 "nbformat_minor": 2
}
